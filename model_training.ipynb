{
 "cells": [
  {
   "cell_type": "code",
   "execution_count": 5,
   "metadata": {},
   "outputs": [
    {
     "name": "stdout",
     "output_type": "stream",
     "text": [
      "DEM x bounds: -170.84696025293798 to -170.54557137248796\n",
      "DEM y bounds: -14.374160704249647 to -14.229623671259647\n",
      "Variables: ['air_temp_diff_1000_500', 'air_2m', 'hgt_1000', 'hgt_500', 'omega_500', 'pottmp_diff_1000_500', 'pottmp_diff_1000_850', 'pr_wtr', 'shum_700', 'shum_925', 'zon_moist_700', 'zon_moist_925', 'merid_moist_700', 'merid_moist_925', 'skin_temp', 'slp']\n",
      "Interpolated: air_temp_diff_1000_500, shape: (804, 157, 326)\n",
      "Interpolated: air_2m, shape: (804, 157, 326)\n",
      "Interpolated: hgt_1000, shape: (804, 157, 326)\n",
      "Interpolated: hgt_500, shape: (804, 157, 326)\n",
      "Interpolated: omega_500, shape: (804, 157, 326)\n",
      "Interpolated: pottmp_diff_1000_500, shape: (804, 157, 326)\n",
      "Interpolated: pottmp_diff_1000_850, shape: (804, 157, 326)\n",
      "Interpolated: pr_wtr, shape: (804, 157, 326)\n",
      "Interpolated: shum_700, shape: (804, 157, 326)\n",
      "Interpolated: shum_925, shape: (804, 157, 326)\n",
      "Interpolated: zon_moist_700, shape: (804, 157, 326)\n",
      "Interpolated: zon_moist_925, shape: (804, 157, 326)\n",
      "Interpolated: merid_moist_700, shape: (804, 157, 326)\n",
      "Interpolated: merid_moist_925, shape: (804, 157, 326)\n",
      "Interpolated: skin_temp, shape: (804, 157, 326)\n",
      "Interpolated: slp, shape: (804, 157, 326)\n",
      "\n",
      "Loaded rainfall for 21 stations.\n"
     ]
    }
   ],
   "source": [
    "import numpy as np\n",
    "import pandas as pd\n",
    "import xarray as xr\n",
    "import rioxarray\n",
    "from scipy.interpolate import griddata\n",
    "from sklearn.linear_model import LinearRegression\n",
    "from pathlib import Path\n",
    "import matplotlib.pyplot as plt\n",
    "\n",
    "# -------------------------------\n",
    "# 1. Load DEM and Climate Dataset\n",
    "# -------------------------------\n",
    "\n",
    "dem = rioxarray.open_rasterio(\"data/DEM/DEM_Tut1.tif\", masked=True).squeeze()\n",
    "print(\"DEM x bounds:\", float(dem.x.min()), \"to\", float(dem.x.max()))\n",
    "print(\"DEM y bounds:\", float(dem.y.min()), \"to\", float(dem.y.max()))\n",
    "\n",
    "climate_ds = xr.open_dataset(\"data/extracted_climate_var/AS_climate_var_ds.nc\")\n",
    "variables = list(climate_ds.data_vars.keys())\n",
    "print(\"Variables:\", variables)\n",
    "\n",
    "# Interpolate each variable to the DEM grid (downsampled for speed)\n",
    "dem_lons = dem.x.values[::10]\n",
    "dem_lats = dem.y.values[::10]\n",
    "interp_vars = []\n",
    "\n",
    "for var in variables:\n",
    "    da = climate_ds[var]\n",
    "    if \"lat\" in da.dims and \"lon\" in da.dims:\n",
    "        interp = da.interp(lat=dem_lats, lon=dem_lons, method=\"linear\")\n",
    "        interp_vars.append(interp)\n",
    "        print(f\"Interpolated: {var}, shape: {interp.shape}\")\n",
    "\n",
    "# -------------------------------\n",
    "# 2. Load Station Rainfall\n",
    "# -------------------------------\n",
    "\n",
    "rainfall_dir = Path(\"data/mon_rainfall\")\n",
    "station_meta = pd.read_csv(\"data/as_raingage_list2.csv\")\n",
    "station_rain = {}\n",
    "\n",
    "for csv_file in rainfall_dir.glob(\"*_monthly.csv\"):\n",
    "    df = pd.read_csv(csv_file)\n",
    "    station_id = csv_file.stem.replace(\"_monthly\", \"\")\n",
    "    df['year_month'] = pd.to_datetime(df['year_month'].astype(str))\n",
    "    df = df.dropna(subset=['monthly_total_precip_in'])\n",
    "    df['month_str'] = df['year_month'].dt.strftime('%Y-%m')\n",
    "    station_rain[station_id] = dict(zip(df['month_str'], df['monthly_total_precip_in']))\n",
    "\n",
    "print(f\"\\nLoaded rainfall for {len(station_rain)} stations.\")\n",
    "\n",
    "# -------------------------------\n",
    "# 3. Build Features at Each Station Per Month\n",
    "# -------------------------------\n",
    "\n",
    "X_list = []\n",
    "y_list = []\n",
    "times = pd.to_datetime(climate_ds.time.values)\n",
    "time_strs = times.strftime('%Y-%m')\n",
    "\n",
    "for t_idx, t_val in enumerate(time_strs):\n",
    "    for idx, row in station_meta.iterrows():\n",
    "        sid = row['Station']\n",
    "        lat = row['LAT']\n",
    "        lon = row['LONG']\n",
    "        \n",
    "        if sid not in station_rain or t_val not in station_rain[sid]:\n",
    "            continue\n",
    "        \n",
    "        rain_val = station_rain[sid][t_val]\n",
    "        if pd.isna(rain_val):\n",
    "            continue\n",
    "        \n",
    "        # Extract interpolated climate values at station point\n",
    "        features = []\n",
    "        for var_interp in interp_vars:\n",
    "            try:\n",
    "                val = float(var_interp.isel(time=t_idx).interp(lat=lat, lon=lon).values)\n",
    "            except:\n",
    "                val = np.nan\n"
   ]
  },
  {
   "cell_type": "code",
   "execution_count": 3,
   "metadata": {},
   "outputs": [
    {
     "name": "stdout",
     "output_type": "stream",
     "text": [
      "Checking available rainfall samples by month:\n",
      "106 months with usable interpolated rainfall.\n"
     ]
    }
   ],
   "source": [
    "print(\"Checking available rainfall samples by month:\")\n",
    "valid_months = 0\n",
    "for m, arr in interpolated_rain.items():\n",
    "    if not np.isnan(arr).all():\n",
    "        valid_months += 1\n",
    "print(f\"{valid_months} months with usable interpolated rainfall.\")\n"
   ]
  },
  {
   "cell_type": "code",
   "execution_count": 4,
   "metadata": {},
   "outputs": [
    {
     "name": "stdout",
     "output_type": "stream",
     "text": [
      "toa_ridge_WRCC [('2012-03', np.float64(nan)), ('2012-04', np.float64(5.120000000000001)), ('2012-05', np.float64(11.75)), ('2012-06', np.float64(7.320000000000001)), ('2012-07', np.float64(6.3100000000000005))]\n",
      "airport80 [('1980-10', np.float64(21.479999999999997)), ('1980-11', np.float64(7.43)), ('1980-12', np.float64(13.439999999999998)), ('1981-01', np.float64(14.25)), ('1981-02', np.float64(14.23))]\n",
      "malaeimi [('2003-02', np.float64(1.200787402)), ('2003-03', np.float64(15.342519686)), ('2003-04', np.float64(12.598425195)), ('2003-05', np.float64(21.992125981999997)), ('2003-06', np.float64(9.425196851))]\n",
      "vaipito2000 [('1958-07', np.float64(nan)), ('1958-08', np.float64(nan)), ('1958-09', np.float64(nan)), ('1958-10', np.float64(nan)), ('1958-11', np.float64(nan))]\n",
      "fagaitua [('1997-12', np.float64(3.3999999999999995)), ('1998-01', np.float64(12.5)), ('1998-02', np.float64(nan)), ('1998-03', np.float64(nan)), ('1998-04', np.float64(1.9))]\n",
      "maloata [('2000-03', np.float64(20.618110235)), ('2000-04', np.float64(9.204724409)), ('2000-05', np.float64(9.822834645999995)), ('2000-06', np.float64(11.283464568)), ('2000-07', np.float64(7.590551180999999))]\n",
      "masefau [('2001-12', np.float64(7.748031495999999)), ('2002-01', np.float64(9.031496062000002)), ('2002-02', np.float64(6.086614176)), ('2002-03', np.float64(13.393700785)), ('2002-04', np.float64(12.12992126))]\n",
      "aua [('1993-03', np.float64(6.72)), ('1993-04', np.float64(22.81)), ('1993-05', np.float64(13.04)), ('1993-06', np.float64(5.8100000000000005)), ('1993-07', np.float64(10.79))]\n",
      "aasufou90 [('1999-07', np.float64(5.81)), ('1999-08', np.float64(5.91)), ('1999-09', np.float64(27.56)), ('1999-10', np.float64(19.559999999999995)), ('1999-11', np.float64(12.37))]\n",
      "pioa_afono [('1980-01', np.float64(nan)), ('1980-02', np.float64(9.090000000000002)), ('1980-03', np.float64(15.04)), ('1980-04', np.float64(8.679999999999998)), ('1980-05', np.float64(30.33))]\n",
      "aoloafou [('2000-06', np.float64(0.0)), ('2000-07', np.float64(10.4)), ('2000-08', np.float64(6.5)), ('2000-09', np.float64(5.8)), ('2000-10', np.float64(nan))]\n",
      "mt_alava [('2000-03', np.float64(22.09055117900001)), ('2000-04', np.float64(10.240157479)), ('2000-05', np.float64(12.503937003)), ('2000-06', np.float64(11.118110238000003)), ('2000-07', np.float64(6.452755906))]\n",
      "aasufou80 [('1980-01', np.float64(nan)), ('1980-02', np.float64(12.42)), ('1980-03', np.float64(13.95)), ('1980-04', np.float64(11.650000000000002)), ('1980-05', np.float64(34.14))]\n",
      "airport5101 [('1999-07', np.float64(nan)), ('1999-08', np.float64(6.224409448)), ('1999-09', np.float64(16.842519686)), ('1999-10', np.float64(9.633858266)), ('1999-11', np.float64(nan))]\n",
      "aunuu [('1997-04', np.float64(3.7000000000000006)), ('1997-05', np.float64(9.7)), ('1997-06', np.float64(2.5999999999999996)), ('1997-07', np.float64(2.0)), ('1997-08', np.float64(nan))]\n",
      "malaeimi_1691 [('1990-08', np.float64(0.44)), ('1990-09', np.float64(nan)), ('1990-10', np.float64(14.35)), ('1990-11', np.float64(19.090000000000003)), ('1990-12', np.float64(15.990000000000002))]\n",
      "vaipito_res [('1989-10', np.float64(9.28)), ('1989-11', np.float64(15.479999999999997)), ('1989-12', np.float64(5.17)), ('1990-01', np.float64(8.47)), ('1990-02', np.float64(nan))]\n",
      "matatula [('2001-05', np.float64(6.6535433059999995)), ('2001-06', np.float64(10.114173229)), ('2001-07', np.float64(4.999999998)), ('2001-08', np.float64(1.850393702)), ('2001-09', np.float64(5.692913386))]\n",
      "iliili [('2000-08', np.float64(0.3385826789999999)), ('2000-11', np.float64(9.681102366)), ('2000-12', np.float64(12.385826777000002)), ('2001-01', np.float64(9.531496065)), ('2001-02', np.float64(15.751968509999998))]\n",
      "siufaga_WRCC [('2012-03', np.float64(nan)), ('2012-04', np.float64(5.93)), ('2012-05', np.float64(22.700000000000006)), ('2012-06', np.float64(11.559999999999995)), ('2012-07', np.float64(9.46))]\n",
      "satala [('1997-12', np.float64(7.1)), ('1998-01', np.float64(18.6)), ('1998-02', np.float64(4.1)), ('1998-03', np.float64(20.2)), ('1998-04', np.float64(2.9000000000000004))]\n"
     ]
    }
   ],
   "source": [
    "for station_id, rain_series in station_rain.items():\n",
    "    print(station_id, list(rain_series.items())[:5])  # Just show a few\n"
   ]
  },
  {
   "cell_type": "code",
   "execution_count": 2,
   "metadata": {},
   "outputs": [
    {
     "name": "stdout",
     "output_type": "stream",
     "text": [
      "DEM x bounds: -170.84696025293798 to -170.54557137248796\n",
      "DEM y bounds: -14.374160704249647 to -14.229623671259647\n",
      "Fixed climate longitudes: [-172.5 -170.  -167.5]\n",
      "Coarse climate shape: (804, 3, 3)\n",
      "Coarse climate dims: ('time', 'lat', 'lon')\n",
      "Downsampled DEM lons shape: (326,)\n",
      "Downsampled DEM lats shape: (157,)\n",
      "Interpolated climate shape: (804, 157, 326)\n"
     ]
    },
    {
     "data": {
      "image/png": "[encoded data removed]",
      "text/plain": [
       "<Figure size 800x600 with 2 Axes>"
      ]
     },
     "metadata": {},
     "output_type": "display_data"
    }
   ],
   "source": [
    "import numpy as np\n",
    "import xarray as xr\n",
    "import rioxarray\n",
    "import matplotlib.pyplot as plt\n",
    "\n",
    "# -------------------------------------\n",
    "# 1. Load DEM\n",
    "# -------------------------------------\n",
    "dem = rioxarray.open_rasterio(\"data/DEM/DEM_Tut1.tif\", masked=True).squeeze()\n",
    "print(\"DEM x bounds:\", float(dem.x.min()), \"to\", float(dem.x.max()))\n",
    "print(\"DEM y bounds:\", float(dem.y.min()), \"to\", float(dem.y.max()))\n",
    "\n",
    "# -------------------------------------\n",
    "# 2. Load Climate Data & Fix Longitude Range\n",
    "# -------------------------------------\n",
    "climate_ds = xr.open_dataset(\"data/extracted_climate_var/AS_climate_var_ds.nc\")\n",
    "\n",
    "# SHIFT climate_ds['lon'] from 0–360 to -180–180\n",
    "fixed_lons = np.where(climate_ds['lon'].values > 180,\n",
    "                      climate_ds['lon'].values - 360,\n",
    "                      climate_ds['lon'].values)\n",
    "climate_ds = climate_ds.assign_coords(lon=(\"lon\", fixed_lons))\n",
    "\n",
    "print(\"Fixed climate longitudes:\", climate_ds['lon'].values)\n",
    "\n",
    "# Let's pick one variable, e.g. 'slp'\n",
    "coarse_climate = climate_ds['slp']  # shape: (time, lat, lon)\n",
    "\n",
    "print(\"Coarse climate shape:\", coarse_climate.shape)\n",
    "print(\"Coarse climate dims:\", coarse_climate.dims)\n",
    "\n",
    "# -------------------------------------\n",
    "# 3. Downsample the DEM Grid (Optional)\n",
    "# -------------------------------------\n",
    "downsample_factor = 10\n",
    "dem_lons = dem.x.values[::downsample_factor]\n",
    "dem_lats = dem.y.values[::downsample_factor]\n",
    "print(\"Downsampled DEM lons shape:\", dem_lons.shape)\n",
    "print(\"Downsampled DEM lats shape:\", dem_lats.shape)\n",
    "\n",
    "# -------------------------------------\n",
    "# 4. Interpolate\n",
    "# -------------------------------------\n",
    "interp_climate = coarse_climate.interp(lon=dem_lons, lat=dem_lats, method='nearest')\n",
    "print(\"Interpolated climate shape:\", interp_climate.shape)\n",
    "\n",
    "# -------------------------------------\n",
    "# 5. Visualize\n",
    "# -------------------------------------\n",
    "time_index = 0\n",
    "plt.figure(figsize=(8,6))\n",
    "interp_climate.isel(time=time_index).plot(cmap='viridis')\n",
    "plt.title(\"SLP at time=0 (downsampled, with fixed lon range)\")\n",
    "plt.show()\n"
   ]
  },
  {
   "cell_type": "code",
   "execution_count": 19,
   "metadata": {},
   "outputs": [
    {
     "name": "stdout",
     "output_type": "stream",
     "text": [
      "Points for 2000-12 : [[-170.6889944   -14.26560556]\n",
      " [-170.6939944   -14.27060556]\n",
      " [-170.7101944   -14.28294444]\n",
      " [-170.5534389   -14.28532778]\n",
      " [-170.61705     -14.26727222]\n",
      " [-170.7141667   -14.33166667]\n",
      " [-170.7739944   -14.30949167]\n",
      " [-170.7469444   -14.34180556]\n",
      " [-170.7392722   -14.31754722]\n",
      " [-170.8126056   -14.30726944]]\n",
      "Values for 2000-12 : [10.8503937  11.8        12.2         8.1        11.7        11.37795276\n",
      "         nan 12.38582678         nan 11.09055118]\n",
      "Interpolated grid for 2000-12 :\n",
      " [[11.09055118  8.1         8.1       ]\n",
      " [11.09055118  8.1         8.1       ]\n",
      " [11.09055118 12.38582678  8.1       ]]\n"
     ]
    }
   ],
   "source": [
    "test_month = \"2000-12\"\n",
    "points = []\n",
    "values = []\n",
    "for idx, row in station_meta.iterrows():\n",
    "    station_id = row[\"Station\"]\n",
    "    lat = row[\"LAT\"]\n",
    "    lon = row[\"LONG\"]\n",
    "    if test_month in station_rain.get(station_id, {}):\n",
    "        rain_val = station_rain[station_id][test_month]\n",
    "        points.append((lon, lat))\n",
    "        values.append(rain_val)\n",
    "\n",
    "points = np.array(points)\n",
    "values = np.array(values)\n",
    "print(\"Points for\", test_month, \":\", points)\n",
    "print(\"Values for\", test_month, \":\", values)\n",
    "\n",
    "if len(points) >= 3:\n",
    "    grid_lon, grid_lat = np.meshgrid(coarse_lons, coarse_lats)\n",
    "    grid_points = np.vstack([grid_lon.ravel(), grid_lat.ravel()]).T\n",
    "    # Switch method to 'nearest' to avoid NaNs outside convex hull\n",
    "    grid_rain = griddata(points, values, grid_points, method='nearest')\n",
    "    print(\"Interpolated grid for\", test_month, \":\\n\", grid_rain.reshape((3,3)))\n",
    "else:\n",
    "    print(\"Not enough data for\", test_month)\n"
   ]
  }
 ],
 "metadata": {
  "kernelspec": {
   "display_name": ".venv",
   "language": "python",
   "name": "python3"
  },
  "language_info": {
   "codemirror_mode": {
    "name": "ipython",
    "version": 3
   },
   "file_extension": ".py",
   "mimetype": "text/x-python",
   "name": "python",
   "nbconvert_exporter": "python",
   "pygments_lexer": "ipython3",
   "version": "3.11.9"
  }
 },
 "nbformat": 4,
 "nbformat_minor": 2
}
