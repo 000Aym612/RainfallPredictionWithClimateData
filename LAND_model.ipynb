{
 "cells": [
  {
   "cell_type": "code",
   "execution_count": 2,
   "metadata": {},
   "outputs": [
    {
     "name": "stdout",
     "output_type": "stream",
     "text": [
      "Collecting torch\n",
      "  Obtaining dependency information for torch from https://files.pythonhosted.org/packages/0b/fa/f33a4148c6fb46ca2a3f8de39c24d473822d5774d652b66ed9b1214da5f7/torch-2.6.0-cp311-none-macosx_11_0_arm64.whl.metadata\n",
      "  Downloading torch-2.6.0-cp311-none-macosx_11_0_arm64.whl.metadata (28 kB)\n",
      "Requirement already satisfied: filelock in /Users/marusuke/anaconda3/lib/python3.11/site-packages (from torch) (3.13.1)\n",
      "Requirement already satisfied: typing-extensions>=4.10.0 in /Users/marusuke/anaconda3/lib/python3.11/site-packages (from torch) (4.12.2)\n",
      "Requirement already satisfied: networkx in /Users/marusuke/anaconda3/lib/python3.11/site-packages (from torch) (3.3)\n",
      "Requirement already satisfied: jinja2 in /Users/marusuke/anaconda3/lib/python3.11/site-packages (from torch) (3.1.4)\n",
      "Requirement already satisfied: fsspec in /Users/marusuke/anaconda3/lib/python3.11/site-packages (from torch) (2024.9.0)\n",
      "Collecting sympy==1.13.1 (from torch)\n",
      "  Obtaining dependency information for sympy==1.13.1 from https://files.pythonhosted.org/packages/b2/fe/81695a1aa331a842b582453b605175f419fe8540355886031328089d840a/sympy-1.13.1-py3-none-any.whl.metadata\n",
      "  Downloading sympy-1.13.1-py3-none-any.whl.metadata (12 kB)\n",
      "Requirement already satisfied: mpmath<1.4,>=1.1.0 in /Users/marusuke/anaconda3/lib/python3.11/site-packages (from sympy==1.13.1->torch) (1.3.0)\n",
      "Requirement already satisfied: MarkupSafe>=2.0 in /Users/marusuke/anaconda3/lib/python3.11/site-packages (from jinja2->torch) (2.1.3)\n",
      "Downloading torch-2.6.0-cp311-none-macosx_11_0_arm64.whl (66.5 MB)\n",
      "\u001b[2K   \u001b[90m━━━━━━━━━━━━━━━━━━━━━━━━━━━━━━━━━━━━━━━━\u001b[0m \u001b[32m66.5/66.5 MB\u001b[0m \u001b[31m6.0 MB/s\u001b[0m eta \u001b[36m0:00:00\u001b[0m00:01\u001b[0m00:01\u001b[0mm\n",
      "\u001b[?25hDownloading sympy-1.13.1-py3-none-any.whl (6.2 MB)\n",
      "\u001b[2K   \u001b[90m━━━━━━━━━━━━━━━━━━━━━━━━━━━━━━━━━━━━━━━━\u001b[0m \u001b[32m6.2/6.2 MB\u001b[0m \u001b[31m3.8 MB/s\u001b[0m eta \u001b[36m0:00:00\u001b[0m00:01\u001b[0m00:01\u001b[0mm\n",
      "\u001b[?25hInstalling collected packages: sympy, torch\n",
      "  Attempting uninstall: sympy\n",
      "    Found existing installation: sympy 1.13.2\n",
      "    Uninstalling sympy-1.13.2:\n",
      "      Successfully uninstalled sympy-1.13.2\n",
      "Successfully installed sympy-1.13.1 torch-2.6.0\n",
      "Note: you may need to restart the kernel to use updated packages.\n"
     ]
    }
   ],
   "source": [
    "%pip install torch"
   ]
  },
  {
   "cell_type": "code",
   "execution_count": 9,
   "metadata": {},
   "outputs": [],
   "source": [
    "import torch\n",
    "import torch.nn as nn\n",
    "import torch.nn.functional as F\n",
    "import matplotlib.pyplot as plt"
   ]
  },
  {
   "cell_type": "code",
   "execution_count": 4,
   "metadata": {},
   "outputs": [],
   "source": [
    "class LANDModel(nn.Module):\n",
    "    def __init__(self, Na=512, Nb=1024, Drate=0.45):\n",
    "        super(LANDModel, self).__init__()\n",
    "\n",
    "        # Local DEM branch\n",
    "        self.local_dense1 = nn.Linear(25, 128)\n",
    "        self.local_dense2 = nn.Linear(128, 128)\n",
    "\n",
    "        # Regional DEM branch\n",
    "        self.regional_dense1 = nn.Linear(25, 128)\n",
    "        self.regional_dense2 = nn.Linear(128, 128)\n",
    "\n",
    "        # Month one-hot (12D)\n",
    "        self.month_dense = nn.Linear(12, 128)\n",
    "\n",
    "        # Reanalysis data branch (16 channels, 3x3)\n",
    "        self.reanalysis_conv = nn.Conv2d(in_channels=16, out_channels=Na, kernel_size=3, groups=16)\n",
    "        self.reanalysis_flat = nn.Flatten()\n",
    "        self.reanalysis_dense1 = nn.Linear(Na, Na)\n",
    "        self.reanalysis_dense2 = nn.Linear(Na, Na)\n",
    "\n",
    "        # Final combined layers\n",
    "        self.combined_dense1 = nn.Linear(384 + Na, Nb)\n",
    "        self.bn1 = nn.BatchNorm1d(Nb)\n",
    "        self.combined_dense2 = nn.Linear(Nb, Nb)\n",
    "        self.bn2 = nn.BatchNorm1d(Nb)\n",
    "        self.dropout = nn.Dropout(p=Drate)\n",
    "        self.output_layer = nn.Linear(Nb, 1)\n",
    "\n",
    "    def forward(self, local_dem, regional_dem, month_onehot, reanalysis):\n",
    "        # Local DEM path\n",
    "        x_local = F.relu(self.local_dense1(local_dem))\n",
    "        x_local = F.relu(self.local_dense2(x_local))\n",
    "\n",
    "        # Regional DEM path\n",
    "        x_regional = F.relu(self.regional_dense1(regional_dem))\n",
    "        x_regional = F.relu(self.regional_dense2(x_regional))\n",
    "\n",
    "        # Month one-hot path\n",
    "        x_month = F.relu(self.month_dense(month_onehot))\n",
    "\n",
    "        # Reanalysis path\n",
    "        x_reanalysis = F.relu(self.reanalysis_conv(reanalysis))  # shape: [batch, Na, 1, 1]\n",
    "        x_reanalysis = torch.flatten(x_reanalysis, start_dim=1)\n",
    "        x_reanalysis = F.relu(self.reanalysis_dense1(x_reanalysis))\n",
    "        x_reanalysis = F.relu(self.reanalysis_dense2(x_reanalysis))\n",
    "\n",
    "        # Concatenate all\n",
    "        x = torch.cat([x_local, x_regional, x_month, x_reanalysis], dim=1)\n",
    "\n",
    "        # Final MLP\n",
    "        x = F.relu(self.bn1(self.combined_dense1(x)))\n",
    "        x = F.relu(self.bn2(self.combined_dense2(x)))\n",
    "        x = self.dropout(x)\n",
    "        x = F.relu(self.output_layer(x))\n",
    "\n",
    "        return x"
   ]
  },
  {
   "cell_type": "code",
   "execution_count": 13,
   "metadata": {},
   "outputs": [
    {
     "data": {
      "image/png": "[encoded data removed]",
      "text/plain": [
       "<Figure size 640x480 with 2 Axes>"
      ]
     },
     "metadata": {},
     "output_type": "display_data"
    }
   ],
   "source": [
    "model = LANDModel()\n",
    "\n",
    "# Expected data format and description:\n",
    "# local_dem: [batch, 25]: Local DEM features\n",
    "# regional_dem: [batch, 25]: Regional DEM features\n",
    "# month_onehot: [batch, 12]: Month one-hot encoded features\n",
    "# reanalysis: [batch, 16, 3, 3]: 16 climate variables of 3x3 reanalysis data\n",
    "\n",
    "# dummy inputs\n",
    "local = torch.rand(8, 25)\n",
    "regional = torch.rand(8, 25)\n",
    "month = torch.eye(12)[torch.randint(0, 12, (8,))]  # batch=8\n",
    "rean = torch.rand(8, 16, 3, 3)\n",
    "\n",
    "# prediction\n",
    "out = model(local, regional, month, rean)\n",
    "\n",
    "# plot the out as a 2D image\n",
    "plt.imshow(out.detach().numpy().reshape(1, -1), cmap='Blues', interpolation='nearest')\n",
    "plt.colorbar()\n",
    "plt.title('Output Heatmap')\n",
    "plt.xlabel('Output Dimension')\n",
    "plt.ylabel('Output Value')\n",
    "plt.show()"
   ]
  },
  {
   "cell_type": "code",
   "execution_count": null,
   "metadata": {},
   "outputs": [],
   "source": []
  }
 ],
 "metadata": {
  "kernelspec": {
   "display_name": "base",
   "language": "python",
   "name": "python3"
  },
  "language_info": {
   "codemirror_mode": {
    "name": "ipython",
    "version": 3
   },
   "file_extension": ".py",
   "mimetype": "text/x-python",
   "name": "python",
   "nbconvert_exporter": "python",
   "pygments_lexer": "ipython3",
   "version": "3.11.9"
  }
 },
 "nbformat": 4,
 "nbformat_minor": 2
}
