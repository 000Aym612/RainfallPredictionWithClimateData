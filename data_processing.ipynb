{
 "cells": [
  {
   "cell_type": "markdown",
   "metadata": {},
   "source": [
    "# Climate Processor Package Testing\n",
    "\n",
    "This notebook demonstrates how to use the modular climate_processor package to process and visualize climate data."
   ]
  },
  {
   "cell_type": "code",
   "execution_count": null,
   "metadata": {},
   "outputs": [],
   "source": [
    "import numpy as np\n",
    "import matplotlib.pyplot as plt\n",
    "import cartopy.crs as ccrs\n",
    "import xarray as xr\n",
    "import os\n",
    "\n",
    "# Import our custom package\n",
    "from climate_processor import ClimateDataProcessor"
   ]
  },
  {
   "cell_type": "markdown",
   "metadata": {},
   "source": [
    "## 1. Initialize the Climate Data Processor\n",
    "\n",
    "First, we'll create an instance of the ClimateDataProcessor class with default parameters."
   ]
  },
  {
   "cell_type": "code",
   "execution_count": null,
   "metadata": {},
   "outputs": [],
   "source": [
    "# Create a processor instance with default parameters\n",
    "processor = ClimateDataProcessor(\n",
    "    data_dir=\"data/climate_variables\",\n",
    "    lon_slice=slice(187.5, 192.5),\n",
    "    lat_slice=slice(-12.5, -17.5),\n",
    "    time_slice=slice(\"1958-01-01\", \"2024-12-31\"),\n",
    "    target_lons=np.array([187.5, 190.0, 192.5]),\n",
    "    target_lats=np.array([-12.5, -15.0, -17.5])\n",
    ")"
   ]
  },
  {
   "cell_type": "markdown",
   "metadata": {},
   "source": [
    "## 2. Process Climate Variables\n",
    "\n",
    "Now we'll demonstrate the different ways to process climate variables using our modular approach."
   ]
  },
  {
   "cell_type": "markdown",
   "metadata": {},
   "source": [
    "### 2.1 Process All Variables"
   ]
  },
  {
   "cell_type": "code",
   "execution_count": null,
   "metadata": {},
   "outputs": [],
   "source": [
    "# Process all variables\n",
    "print(\"Processing all climate variables...\")\n",
    "processor.process_all_variables()\n",
    "\n",
    "# Validate grid consistency\n",
    "processor.validate_grid_consistency()"
   ]
  },
  {
   "cell_type": "markdown",
   "metadata": {},
   "source": [
    "### 2.2 Process Variables by Name"
   ]
  },
  {
   "cell_type": "code",
   "execution_count": null,
   "metadata": {},
   "outputs": [],
   "source": [
    "# Create a new processor for demonstration\n",
    "processor_by_name = ClimateDataProcessor()\n",
    "\n",
    "# Process specific variables by name\n",
    "success1 = processor_by_name.process_variable(\"air_2m\")\n",
    "success2 = processor_by_name.process_variable(\"skin_temp\")\n",
    "\n",
    "# Display the keys of the climate data dictionary\n",
    "print(\"Processed variables:\")\n",
    "print(list(processor_by_name.climate_data.keys()))"
   ]
  },
  {
   "cell_type": "markdown",
   "metadata": {},
   "source": [
    "### 2.3 Process Variables by Description"
   ]
  },
  {
   "cell_type": "code",
   "execution_count": null,
   "metadata": {},
   "outputs": [],
   "source": [
    "# Create a new processor for demonstration\n",
    "processor_by_desc = ClimateDataProcessor()\n",
    "\n",
    "# Process variables by description\n",
    "success1 = processor_by_desc.process_by_description(\"2m air temperature\")\n",
    "success2 = processor_by_desc.process_by_description(\"sea level pressure\")\n",
    "\n",
    "# Display the keys of the climate data dictionary\n",
    "print(\"Processed variables:\")\n",
    "print(list(processor_by_desc.climate_data.keys()))"
   ]
  },
  {
   "cell_type": "markdown",
   "metadata": {},
   "source": [
    "## 3. Examine the Processed Data\n",
    "\n",
    "Let's look at the keys of our climate data dictionary and examine a few variables."
   ]
  },
  {
   "cell_type": "code",
   "execution_count": null,
   "metadata": {},
   "outputs": [],
   "source": [
    "# Display the keys of the climate data dictionary\n",
    "print(\"All variables in the climate_data dictionary:\")\n",
    "print(list(processor.climate_data.keys()))"
   ]
  },
  {
   "cell_type": "code",
   "execution_count": null,
   "metadata": {},
   "outputs": [],
   "source": [
    "# Examine the air_2m variable if it exists\n",
    "if 'air_2m' in processor.climate_data:\n",
    "    processor.climate_data['air_2m']"
   ]
  },
  {
   "cell_type": "code",
   "execution_count": null,
   "metadata": {},
   "outputs": [],
   "source": [
    "# Examine the skin_temp variable if it exists\n",
    "if 'skin_temp' in processor.climate_data:\n",
    "    processor.climate_data['skin_temp']"
   ]
  },
  {
   "cell_type": "markdown",
   "metadata": {},
   "source": [
    "## 4. Save Processed Data to NetCDF"
   ]
  },
  {
   "cell_type": "code",
   "execution_count": null,
   "metadata": {},
   "outputs": [],
   "source": [
    "# Save the processed data to a NetCDF file\n",
    "output_path = \"AS_climate_var_ds.nc\"\n",
    "processor.save_to_netcdf(output_path)\n",
    "print(f\"Processed climate data saved to {output_path}\")"
   ]
  },
  {
   "cell_type": "markdown",
   "metadata": {},
   "source": [
    "## 5. Visualizations\n",
    "\n",
    "Now let's create some visualizations of our climate data."
   ]
  },
  {
   "cell_type": "markdown",
   "metadata": {},
   "source": [
    "### 5.1 Visualize 2m Air Temperature and Skin Temperature"
   ]
  },
  {
   "cell_type": "code",
   "execution_count": null,
   "metadata": {},
   "outputs": [],
   "source": [
    "# Check if the required variables exist\n",
    "if 'air_2m' in processor.climate_data and 'skin_temp' in processor.climate_data:\n",
    "    # Extract the first time step for both variables\n",
    "    air_2m_first = processor.climate_data['air_2m'].isel(time=0)\n",
    "    skin_temp_first = processor.climate_data['skin_temp'].isel(time=0)\n",
    "    \n",
    "    # Squeeze any extra dimensions to obtain 2D arrays\n",
    "    data_2d_air = np.squeeze(air_2m_first.values)\n",
    "    data_2d_skin = np.squeeze(skin_temp_first.values)\n",
    "    \n",
    "    # Define the desired target extent explicitly, subtracting 360 from longitudes\n",
    "    extent_target = [187.5-360, 192.5-360, -17.5, -12.5]\n",
    "    \n",
    "    # Create a figure with two subplots side by side using PlateCarree projection\n",
    "    fig, (ax1, ax2) = plt.subplots(\n",
    "        ncols=2, \n",
    "        figsize=(12, 6), \n",
    "        subplot_kw={'projection': ccrs.PlateCarree()}\n",
    "    )\n",
    "    \n",
    "    # Plot 1: 2m Air Temperature using imshow\n",
    "    cmap_air = plt.get_cmap('YlGnBu_r', 13)\n",
    "    im1 = ax1.imshow(data_2d_air,\n",
    "                     cmap=cmap_air,\n",
    "                     transform=ccrs.PlateCarree(),\n",
    "                     extent=extent_target)\n",
    "    ax1.coastlines(resolution='10m', linewidth=0.65)\n",
    "    ax1.set_title('2m Air Temperature — First Time Step (Raw)')\n",
    "    fig.colorbar(im1, ax=ax1, orientation='vertical', label='2m Air Temp (K)')\n",
    "    \n",
    "    # Plot 2: Skin Temperature using imshow\n",
    "    cmap_skin = plt.get_cmap('YlGnBu_r', 13)\n",
    "    im2 = ax2.imshow(data_2d_skin,\n",
    "                     cmap=cmap_skin,\n",
    "                     transform=ccrs.PlateCarree(),\n",
    "                     extent=extent_target)\n",
    "    ax2.coastlines(resolution='10m', linewidth=0.65)\n",
    "    ax2.set_title('Skin Temperature — First Time Step (Raw)')\n",
    "    fig.colorbar(im2, ax=ax2, orientation='vertical', label='Skin Temp (C)')\n",
    "    \n",
    "    plt.tight_layout()\n",
    "    plt.show()\n",
    "else:\n",
    "    print(\"Required variables not found in climate_data dictionary\")"
   ]
  },
  {
   "cell_type": "markdown",
   "metadata": {},
   "source": [
    "### 5.2 Visualize Geopotential Height at 500 hPa"
   ]
  },
  {
   "cell_type": "code",
   "execution_count": null,
   "metadata": {},
   "outputs": [],
   "source": [
    "# Check if the required variable exists\n",
    "if 'hgt_500' in processor.climate_data:\n",
    "    # Extract the first time step for geopotential height at 500 hPa\n",
    "    hgt_500_first = processor.climate_data['hgt_500'].isel(time=0)\n",
    "    data_2d_hgt = np.squeeze(hgt_500_first.values)\n",
    "    \n",
    "    # Create a figure with PlateCarree projection\n",
    "    fig, ax = plt.subplots(\n",
    "        figsize=(8, 6), \n",
    "        subplot_kw={'projection': ccrs.PlateCarree()}\n",
    "    )\n",
    "    \n",
    "    # Plot geopotential height using imshow\n",
    "    cmap_hgt = plt.get_cmap('viridis', 13)\n",
    "    im = ax.imshow(data_2d_hgt,\n",
    "                   cmap=cmap_hgt,\n",
    "                   transform=ccrs.PlateCarree(),\n",
    "                   extent=extent_target)\n",
    "    ax.coastlines(resolution='10m', linewidth=0.65)\n",
    "    ax.set_title('Geopotential Height at 500 hPa — First Time Step')\n",
    "    fig.colorbar(im, ax=ax, orientation='vertical', label='Geopotential Height (m)')\n",
    "    \n",
    "    plt.tight_layout()\n",
    "    plt.show()\n",
    "else:\n",
    "    print(\"hgt_500 variable not found in climate_data dictionary\")"
   ]
  },
  {
   "cell_type": "markdown",
   "metadata": {},
   "source": [
    "### 5.3 Time Series Visualization"
   ]
  },
  {
   "cell_type": "code",
   "execution_count": null,
   "metadata": {},
   "outputs": [],
   "source": [
    "# Check if the required variables exist\n",
    "if 'air_2m' in processor.climate_data and 'skin_temp' in processor.climate_data:\n",
    "    # Extract time series for a specific grid point (center point)\n",
    "    try:\n",
    "        air_2m_center = processor.climate_data['air_2m'].sel(lat=-15.0, lon=190.0, method='nearest')\n",
    "        skin_temp_center = processor.climate_data['skin_temp'].sel(lat=-15.0, lon=190.0, method='nearest')\n",
    "        \n",
    "        # Create a figure with two subplots stacked vertically\n",
    "        fig, (ax1, ax2) = plt.subplots(nrows=2, figsize=(12, 8))\n",
    "        \n",
    "        # Plot 1: 2m Air Temperature time series\n",
    "        ax1.plot(air_2m_center.time, air_2m_center.values, 'b-', label='2m Air Temperature')\n",
    "        ax1.set_title('2m Air Temperature Time Series at Center Point (15°S, 190°E)')\n",
    "        ax1.set_ylabel('Temperature (K)')\n",
    "        ax1.grid(True)\n",
    "        \n",
    "        # Plot 2: Skin Temperature time series\n",
    "        ax2.plot(skin_temp_center.time, skin_temp_center.values, 'r-', label='Skin Temperature')\n",
    "        ax2.set_title('Skin Temperature Time Series at Center Point (15°S, 190°E)')\n",
    "        ax2.set_ylabel('Temperature (°C)')\n",
    "        ax2.set_xlabel('Time')\n",
    "        ax2.grid(True)\n",
    "        \n",
    "        plt.tight_layout()\n",
    "        plt.show()\n",
    "    except Exception as e:\n",
    "        print(f\"Error creating time series plot: {e}\")\n",
    "else:\n",
    "    print(\"Required variables not found in climate_data dictionary\")"
   ]
  },
  {
   "cell_type": "markdown",
   "metadata": {},
   "source": [
    "## 6. Demonstrating the Modular Structure\n",
    "\n",
    "Let's demonstrate how the modular structure makes it easy to extend the functionality."
   ]
  },
  {
   "cell_type": "markdown",
   "metadata": {},
   "source": [
    "### 6.1 Adding a New Variable Configuration"
   ]
  },
  {
   "cell_type": "code",
   "execution_count": null,
   "metadata": {},
   "outputs": [],
   "source": [
    "# Create a new processor\n",
    "custom_processor = ClimateDataProcessor()\n",
    "\n",
    "# Add a new variable configuration\n",
    "custom_processor.variable_configs[\"custom_temp_diff\"] = {\n",
    "    \"description\": \"Custom temperature difference between 1000 and 850 hPa\",\n",
    "    \"variable\": \"Air\",\n",
    "    \"levels\": [1000, 850],\n",
    "    \"operation\": \"diff\"\n",
    "}\n",
    "\n",
    "# Process the new variable\n",
    "success = custom_processor.process_variable(\"custom_temp_diff\")\n",
    "\n",
    "# Check if it was processed successfully\n",
    "if success and \"custom_temp_diff\" in custom_processor.climate_data:\n",
    "    print(\"Successfully processed custom variable!\")\n",
    "    print(custom_processor.climate_data[\"custom_temp_diff\"])\n",
    "else:\n",
    "    print(\"Failed to process custom variable.\")"
   ]
  },
  {
   "cell_type": "markdown",
   "metadata": {},
   "source": [
    "### 6.2 Processing Variables with Different Time Intervals"
   ]
  },
  {
   "cell_type": "code",
   "execution_count": null,
   "metadata": {},
   "outputs": [],
   "source": [
    "# Create a new processor\n",
    "interval_processor = ClimateDataProcessor()\n",
    "\n",
    "# Add a variable configuration with a different time interval\n",
    "interval_processor.variable_configs[\"daily_air_2m\"] = {\n",
    "    \"description\": \"Daily 2m air temperature\",\n",
    "    \"variable\": \"Air 2m\",\n",
    "    \"time_interval\": \"daily\",  # Override the default monthly\n",
    "    \"interpolate\": True\n",
    "}\n",
    "\n",
    "# Try to process the variable\n",
    "success = interval_processor.process_variable(\"daily_air_2m\")\n",
    "\n",
    "# Check if it was processed successfully\n",
    "if success and \"daily_air_2m\" in interval_processor.climate_data:\n",
    "    print(\"Successfully processed daily air temperature!\")\n",
    "    print(interval_processor.climate_data[\"daily_air_2m\"])\n",
    "else:\n",
    "    print(\"Failed to process daily air temperature.\")\n",
    "    print(\"This is expected if the daily data file doesn't exist.\")"
   ]
  },
  {
   "cell_type": "markdown",
   "metadata": {},
   "source": [
    "## 7. Conclusion\n",
    "\n",
    "In this notebook, we've demonstrated how to use the modular climate_processor package to process climate data and create visualizations. The modular design makes it easy to work with climate variables and extend the functionality as needed."
   ]
  }
 ],
 "metadata": {
  "kernelspec": {
   "display_name": "Python 3",
   "language": "python",
   "name": "python3"
  },
  "language_info": {
   "codemirror_mode": {
    "name": "ipython",
    "version": 3
   },
   "file_extension": ".py",
   "mimetype": "text/x-python",
   "name": "python",
   "nbconvert_exporter": "python",
   "pygments_lexer": "ipython3",
   "version": "3.11.0"
  }
 },
 "nbformat": 4,
 "nbformat_minor": 4
}
